{
  "nbformat": 4,
  "nbformat_minor": 0,
  "metadata": {
    "colab": {
      "provenance": [],
      "collapsed_sections": []
    },
    "kernelspec": {
      "name": "python3",
      "display_name": "Python 3"
    },
    "language_info": {
      "name": "python"
    }
  },
  "cells": [
    {
      "cell_type": "code",
      "execution_count": 1,
      "metadata": {
        "id": "bQFUsT1TRkuQ"
      },
      "outputs": [],
      "source": [
        "import numpy as np"
      ]
    },
    {
      "cell_type": "code",
      "source": [
        "# Creating a matrix\n",
        "\n",
        "A = np.array([[1,2], [3,4]]) \n",
        "print(A)\n",
        "\n",
        "#Creating a vector\n",
        "\n",
        "B = np.array([5,6])\n",
        "print(B)"
      ],
      "metadata": {
        "colab": {
          "base_uri": "https://localhost:8080/"
        },
        "id": "9egSx8TJRqlu",
        "outputId": "8178f32d-3c3d-4e04-8fc6-fad1b2121b1c"
      },
      "execution_count": 21,
      "outputs": [
        {
          "output_type": "stream",
          "name": "stdout",
          "text": [
            "[[1 2]\n",
            " [3 4]]\n",
            "[5 6]\n"
          ]
        }
      ]
    },
    {
      "cell_type": "code",
      "source": [
        "# 1st column of A\n",
        "\n",
        "print(A[:,0])\n",
        "\n",
        "# 1st row of A\n",
        "\n",
        "print(A[0,:])"
      ],
      "metadata": {
        "colab": {
          "base_uri": "https://localhost:8080/"
        },
        "id": "18dprAGPTQMy",
        "outputId": "c470c2a5-1cc0-4bfb-d137-07c36f87952c"
      },
      "execution_count": 7,
      "outputs": [
        {
          "output_type": "stream",
          "name": "stdout",
          "text": [
            "[1 3]\n",
            "[1 2]\n"
          ]
        }
      ]
    },
    {
      "cell_type": "code",
      "source": [
        "# Matrix Multiplicaton -- Vector & Vector Product\n",
        "# @ is used for multiplying matrices\n",
        "\n",
        "C = np.array([25,100])\n",
        "Z = B @ C\n",
        "\n",
        "print(Z)"
      ],
      "metadata": {
        "colab": {
          "base_uri": "https://localhost:8080/"
        },
        "id": "v8ZImHIETasQ",
        "outputId": "24f570c9-ba5b-41fb-cf30-016a314b4b98"
      },
      "execution_count": 10,
      "outputs": [
        {
          "output_type": "stream",
          "name": "stdout",
          "text": [
            "725\n"
          ]
        }
      ]
    },
    {
      "cell_type": "code",
      "source": [
        "# Matrix Multiplicaton -- Matrix & Vector Product\n",
        "# @ is used for multiplying matrices\n",
        "# Matrix multiplication is associative, distributive but non-commutative\n",
        "\n",
        "C = np.array([25,100])\n",
        "Z = A @ C\n",
        "\n",
        "print(Z)"
      ],
      "metadata": {
        "colab": {
          "base_uri": "https://localhost:8080/"
        },
        "id": "AYj4Si7JUcpa",
        "outputId": "5367f427-7bd6-4a56-a5d2-2f42452d6679"
      },
      "execution_count": 14,
      "outputs": [
        {
          "output_type": "stream",
          "name": "stdout",
          "text": [
            "[225 475]\n"
          ]
        }
      ]
    },
    {
      "cell_type": "code",
      "source": [
        "# Creating a 5X5 identity matrix\n",
        "# All diagonal elements are 1 and the others are 0\n",
        "\n",
        "I = np.eye(5)\n",
        "print(I)"
      ],
      "metadata": {
        "colab": {
          "base_uri": "https://localhost:8080/"
        },
        "id": "FqVyCFlXUpux",
        "outputId": "56f98017-030c-489e-bddb-cf1dd536e3cb"
      },
      "execution_count": 17,
      "outputs": [
        {
          "output_type": "stream",
          "name": "stdout",
          "text": [
            "[[1. 0. 0. 0. 0.]\n",
            " [0. 1. 0. 0. 0.]\n",
            " [0. 0. 1. 0. 0.]\n",
            " [0. 0. 0. 1. 0.]\n",
            " [0. 0. 0. 0. 1.]]\n"
          ]
        }
      ]
    },
    {
      "cell_type": "code",
      "source": [
        "# Creating a diagonal matrix\n",
        "# All the elements are 0 except those in the diagonal\n",
        "\n",
        "D = np.diag([1,2,3,4])\n",
        "print(D)"
      ],
      "metadata": {
        "colab": {
          "base_uri": "https://localhost:8080/"
        },
        "id": "iSFhlQYYVacz",
        "outputId": "8570c565-c96c-4998-deb4-df8c8a4587a3"
      },
      "execution_count": 18,
      "outputs": [
        {
          "output_type": "stream",
          "name": "stdout",
          "text": [
            "[[1 0 0 0]\n",
            " [0 2 0 0]\n",
            " [0 0 3 0]\n",
            " [0 0 0 4]]\n"
          ]
        }
      ]
    },
    {
      "cell_type": "code",
      "source": [
        "# Transposing a matrix\n",
        "\n",
        "A_t = A.T\n",
        "\n",
        "print(A_t)"
      ],
      "metadata": {
        "colab": {
          "base_uri": "https://localhost:8080/"
        },
        "id": "cZ8nPCKEWEMA",
        "outputId": "f42529af-1853-451e-dce8-84d2eaa84b8d"
      },
      "execution_count": 19,
      "outputs": [
        {
          "output_type": "stream",
          "name": "stdout",
          "text": [
            "[[1 3]\n",
            " [2 4]]\n"
          ]
        }
      ]
    },
    {
      "cell_type": "code",
      "source": [
        "# Finding the trace of the matrix\n",
        "# Trace of the matrix is the sum of all the diagonal elements of the matrix\n",
        "\n",
        "print(np.trace(A))"
      ],
      "metadata": {
        "colab": {
          "base_uri": "https://localhost:8080/"
        },
        "id": "JiPPrfGTXBMF",
        "outputId": "4be23612-47df-4265-8786-e33b25e278de"
      },
      "execution_count": 20,
      "outputs": [
        {
          "output_type": "stream",
          "name": "stdout",
          "text": [
            "5\n"
          ]
        }
      ]
    },
    {
      "cell_type": "code",
      "source": [
        "# Calculating norms of the vectors\n",
        "\n",
        "# l1 norm: The sum of the absolute values of the elements of a vector\n",
        "print(\"L1 Norm:\", np.linalg.norm(B, 1))\n",
        "\n",
        "#l2 norm: Sum of the square root of the sum of all elements of a vector\n",
        "print(\"l2 Norm:\", np.linalg.norm(B, 2))\n",
        "\n",
        "#l∞ norm: The maximum element of a vector independent of its positive or negative nature"
      ],
      "metadata": {
        "colab": {
          "base_uri": "https://localhost:8080/"
        },
        "id": "5QnHS6vNXffP",
        "outputId": "b1d516bd-105f-4cde-f582-81a4883d45a7"
      },
      "execution_count": 27,
      "outputs": [
        {
          "output_type": "stream",
          "name": "stdout",
          "text": [
            "L1 Norm: 11.0\n",
            "l2 Norm: 7.810249675906654\n"
          ]
        }
      ]
    },
    {
      "cell_type": "code",
      "source": [
        "# Finding the inverse of the matrix\n",
        "\n",
        "A_inv = np.linalg.inv(A)\n",
        "print(A_inv)"
      ],
      "metadata": {
        "colab": {
          "base_uri": "https://localhost:8080/"
        },
        "id": "Xf9VHbK6YpAf",
        "outputId": "6529796a-99e4-41dc-f186-9ae1288764a9"
      },
      "execution_count": 29,
      "outputs": [
        {
          "output_type": "stream",
          "name": "stdout",
          "text": [
            "[[-2.   1. ]\n",
            " [ 1.5 -0.5]]\n"
          ]
        }
      ]
    },
    {
      "cell_type": "code",
      "source": [
        "# This will result in an identity matrix\n",
        "\n",
        "print(A @ A_inv)"
      ],
      "metadata": {
        "colab": {
          "base_uri": "https://localhost:8080/"
        },
        "id": "AFaX1CbIaQPv",
        "outputId": "dea78df1-6248-43a0-d08e-158fdc0de0c3"
      },
      "execution_count": 31,
      "outputs": [
        {
          "output_type": "stream",
          "name": "stdout",
          "text": [
            "[[1.0000000e+00 0.0000000e+00]\n",
            " [8.8817842e-16 1.0000000e+00]]\n"
          ]
        }
      ]
    },
    {
      "cell_type": "code",
      "source": [
        "# Finding the quadratic form of an equation\n",
        "# Quadratic form: x is a vector, A is a matrix then quadratic form is the product of the trasnpose of x, x and A\n",
        "\n",
        "x = np.array([5, 6])\n",
        "qf = x.T @ A @ x\n",
        "print(qf)"
      ],
      "metadata": {
        "colab": {
          "base_uri": "https://localhost:8080/"
        },
        "id": "kq13HbvvasC4",
        "outputId": "fe72f346-3756-49d2-87c6-37ee1d51df5a"
      },
      "execution_count": 35,
      "outputs": [
        {
          "output_type": "stream",
          "name": "stdout",
          "text": [
            "319\n"
          ]
        }
      ]
    },
    {
      "cell_type": "code",
      "source": [
        "# Gradient of a function\n",
        "\n",
        "grad = (A + A.T) @ x\n",
        "print(grad)"
      ],
      "metadata": {
        "colab": {
          "base_uri": "https://localhost:8080/"
        },
        "id": "4T0cj_e6c4Hv",
        "outputId": "5d436530-c467-4c1d-dff3-41d296d6c45d"
      },
      "execution_count": 37,
      "outputs": [
        {
          "output_type": "stream",
          "name": "stdout",
          "text": [
            "[40 73]\n"
          ]
        }
      ]
    }
  ]
}